{
 "cells": [
  {
   "cell_type": "markdown",
   "metadata": {},
   "source": [
    "# The Mighty Function"
   ]
  },
  {
   "cell_type": "markdown",
   "metadata": {},
   "source": [
    "From a software development point of view [functions (sometimes called subroutines)](https://en.wikipedia.org/wiki/Subroutine) are parameterized pieces of code with a single entry point.\n",
    "Functions usually contain code to accomplish a specific task and because they are parameterized they can be called in different contexts whenever the execution of that task is necessary. By avoiding duplication of code in a program functions significantly reduce the cost of maintenance of programs and make them less bug prone.  Furthermore, functions can be seen as a design tool for programs by hiding implementation details of certain tasks from the user.  This is often called [abstraction](https://en.wikipedia.org/wiki/Abstraction_(computer_science)).\n",
    "\n",
    "In most programming languages function declaration and calling works analogously to variable declaration and usage in the sense that a function needs to be declared before you are allowed to call it within a program.   Once called the statements in the function body are executed in the context of its own local scope called the *function local scope*. When the function exists that local scope disappears. \n",
    "\n",
    "Functions come in two flavors,\n",
    "\n",
    "* functions that compute return values and return these values to the caller at the call site, and\n",
    "* functions that do not compute return values but accomplish their tasks via side effects such as writing out a result to the terminal or accessing a database.\n",
    "\n",
    "Functions that do not compute return values are not allowed to appear in expressions because that would make an expression undefined.  Consider this Python snippet,"
   ]
  },
  {
   "cell_type": "code",
   "execution_count": 1,
   "metadata": {},
   "outputs": [
    {
     "name": "stdout",
     "output_type": "stream",
     "text": [
      "Hello World!\n",
      "Error: unsupported operand type(s) for +: 'int' and 'NoneType'\n"
     ]
    }
   ],
   "source": [
    "def f ():\n",
    "    print (\"Hello World!\")\n",
    "    return\n",
    "\n",
    "try:\n",
    "    x = (1 + f())\n",
    "except Exception as e:\n",
    "    print (\"Error: \" + str(e))"
   ]
  },
  {
   "cell_type": "markdown",
   "metadata": {},
   "source": [
    "This program fails precisely because the function `f` does not return a value but appears in an expression in the assignment statement. Some programming languages such as functional programming languages like [Haskell](https://www.haskell.org) do not permit functions without return values in order to get around this problem of ill defined expressions."
   ]
  },
  {
   "cell_type": "code",
   "execution_count": 2,
   "metadata": {},
   "outputs": [],
   "source": [
    "# let the notebook access the code folder\n",
    "import sys\n",
    "sys.path.insert(1,\"code\")"
   ]
  },
  {
   "cell_type": "markdown",
   "metadata": {},
   "source": [
    "# A Closer Look at Functions"
   ]
  },
  {
   "cell_type": "markdown",
   "metadata": {},
   "source": [
    "\n",
    "<p align=\"center\">\n",
    "  <img width=\"600\" height=\"450\" src=\"figures/chap08/1/figure.jpg\">\n",
    "</p>\n",
    "<p style=\"text-align: center;\">\n",
    "Fig. 1: Terminology of functions. \n",
    "</p>\n"
   ]
  },
  {
   "cell_type": "markdown",
   "metadata": {},
   "source": [
    "Using functions in programs requires two things: a function *declaration* and a *call* site.  In Figure 1 we see a function declaration and a call in a C-like language whose syntax is not unlike the syntax of our Cuppa family of languages.  A function declaration introduces the name of a function, its return type, the kind of arguments it accepts and of course the function body which defines the computation of the function.  In the context of a function declaration the arguments of a function are called *formal arguments* which act as place holders for values the function is going to be called with.  These formal arguments act just like variables in the body of the function. \n",
    "\n",
    "Calling a function in most programming languages is simply referring to the name of the function in the program text together with a list of values to be passed to the function.  The values to be passed to the function are called *actual arguments*.\n",
    "\n",
    "This immediately begs two fundamental questions regarding functions:\n",
    "* How is the correspondence between actual and formal arguments established?\n",
    "* How is the value of an actual argument transmitted to a formal argument?\n"
   ]
  },
  {
   "cell_type": "markdown",
   "metadata": {},
   "source": [
    "## Argument Correspondence"
   ]
  },
  {
   "cell_type": "markdown",
   "metadata": {},
   "source": [
    "Most programming languages use *positional arguments* where the first actual\n",
    "argument is assigned to the first formal argument, the second actual argument is assigned to the second formal argument, and so on.  Python supports this kind of argument correspondence,"
   ]
  },
  {
   "cell_type": "code",
   "execution_count": 3,
   "metadata": {},
   "outputs": [],
   "source": [
    "def f(first, second, third):\n",
    "    print (\"Value of 'first': {}\".format(first))\n",
    "    print (\"Value of 'second': {}\".format(second))\n",
    "    print (\"Value of 'third': {}\".format(third))\n",
    "    return"
   ]
  },
  {
   "cell_type": "code",
   "execution_count": 4,
   "metadata": {},
   "outputs": [
    {
     "name": "stdout",
     "output_type": "stream",
     "text": [
      "Value of 'first': 1\n",
      "Value of 'second': 2\n",
      "Value of 'third': 3\n"
     ]
    }
   ],
   "source": [
    "f(1,2,3)"
   ]
  },
  {
   "cell_type": "markdown",
   "metadata": {},
   "source": [
    "Most modern programming languages also support *keyword arguments* where the names of the formal arguments are initialized in the actual argument list.  Here the formal argument names act like keywords because the order of the arguemnt initialization does not matter.  Turns out Python supports this style of calling a function as well,"
   ]
  },
  {
   "cell_type": "code",
   "execution_count": 5,
   "metadata": {},
   "outputs": [
    {
     "name": "stdout",
     "output_type": "stream",
     "text": [
      "Value of 'first': 1\n",
      "Value of 'second': 2\n",
      "Value of 'third': 3\n"
     ]
    }
   ],
   "source": [
    "f(third=3, second=2, first=1)"
   ]
  },
  {
   "cell_type": "markdown",
   "metadata": {},
   "source": [
    "Notice that here we reversed the order of the actual arguments but due to the fact that we used the formal arguments names as keywords the order does not matter and we still initialized the formal arguments in the function correctly.\n",
    "\n",
    "The idea of keyword arguments is interesting in the sense that calls become self-documenting.  Consider this example,"
   ]
  },
  {
   "cell_type": "code",
   "execution_count": 6,
   "metadata": {},
   "outputs": [],
   "source": [
    "def divide(dividend, divisor): \n",
    "   return dividend/divisor"
   ]
  },
  {
   "cell_type": "code",
   "execution_count": 7,
   "metadata": {},
   "outputs": [
    {
     "name": "stdout",
     "output_type": "stream",
     "text": [
      "0.5\n"
     ]
    }
   ],
   "source": [
    "# first call: positional correspondence\n",
    "print(divide(2,4))"
   ]
  },
  {
   "cell_type": "code",
   "execution_count": 8,
   "metadata": {},
   "outputs": [
    {
     "name": "stdout",
     "output_type": "stream",
     "text": [
      "0.5\n"
     ]
    }
   ],
   "source": [
    "# second call: keyword correspondence\n",
    "print(divide(dividend=2, divisor=4))"
   ]
  },
  {
   "cell_type": "markdown",
   "metadata": {},
   "source": [
    "Considering that function declarations and calls can be thousands of code lines appart or even in different modules it is clear that using keyword parameters exposes a little bit more about the working of the function reducing the need to constantly refer back to the function declaration when trying to understand how a piece of code works."
   ]
  },
  {
   "cell_type": "markdown",
   "metadata": {},
   "source": [
    "## Argument Value Transmission"
   ]
  },
  {
   "cell_type": "markdown",
   "metadata": {},
   "source": [
    "The second question we had established above is how to connect the value of the actual argument to the formal argument of a function.  That is, how do we tranmit an argument value at the call site of a function to the corresponding formal argument of a function. Two of the most popular techniques in use in todays programming languages are the transmission *by value* and the transmission *by reference*.\n",
    "\n",
    "In by value argument passing a formal argument acts just like a local variable in a function declaration with one important difference: it is initialized using the value of the corresponding actual argument, before the called function begins executing.  This method is sometimes also *copy in* transmission because the value of the actual argument is copied into the function and is used to initialize the formal argument.  Because of its simplicity it is a widely used technique and, as a matter of fact, it is the only argument value transmission technique used both in C and Java.\n",
    "\n",
    "In passing arguments by reference, the memory address or reference of the actual argument is computed before the called function executes.  Inside the called function, that memory address is used as the memory address of the corresponding formal argument.  In effect, the formal argument is now an alias for the actual argument.  That is, the formal argument accesses the same memory location as the actual argument.  This type of argument passing is very efficient for large objects because it avoids having to copy a large amount of memory into a function in order to initialize a formal argument as would be the case for a by value call. By reference calling is used in Fortran and is also available in C++."
   ]
  },
  {
   "cell_type": "markdown",
   "metadata": {},
   "source": [
    "# The Cuppa3 Language"
   ]
  },
  {
   "cell_type": "markdown",
   "metadata": {},
   "source": [
    "In order to integrate functions into our family of languages we extend our Cuppa2 language (our language with variable declarations and scoping) to include function declarations and calling, and call it Cuppa3.  Here are some examples of what these features look like in Cuppa3,\n",
    "\n",
    "* The statement `declare inc(x) return x+1;` declares the function `inc` with the single formal argument `x` and a function body `return x+1` that increments the value of `x` by one and returns that value.\n",
    "\n",
    "* The statement `inc(3);` calls the function `inc` with a single actual argument `3`.  Being a call statment means that the return value of the function is effectively ignored.\n",
    "\n",
    "* In the expression `4 + inc(1)` we call `inc` with the actual argument `1` and that call returns the value two which is then added to `4` resulting in a value six for the overall expression.\n",
    "\n",
    "> In Cuppa3 we implement positional argument correspondence and call by value."
   ]
  },
  {
   "cell_type": "markdown",
   "metadata": {},
   "source": [
    "Here is the full Cuppa3 grammar,\n",
    "```Python    \n",
    "    program : stmt_list\n",
    "\n",
    "    stmt_list : stmt stmt_list\n",
    "              | empty\n",
    "\n",
    "    stmt : DECLARE ID '(' opt_formal_args ')' stmt\n",
    "         | DECLARE ID opt_init opt_semi\n",
    "         | ID '=' exp opt_semi\n",
    "         | GET ID opt_semi\n",
    "         | PUT exp opt_semi\n",
    "         | ID '(' opt_actual_args ')' opt_semi\n",
    "         | RETURN opt_exp opt_semi\n",
    "         | WHILE '(' exp ')' stmt\n",
    "         | IF '(' exp ')' stmt opt_else\n",
    "         | '{' stmt_list '}'\n",
    "\n",
    "    opt_formal_args : formal_args\n",
    "                    | empty\n",
    "\n",
    "    formal_args : ID ',' formal_args\n",
    "                | ID\n",
    "\n",
    "    opt_init : '=' exp\n",
    "             | empty\n",
    "\n",
    "    opt_actual_args : actual_args\n",
    "                    | empty\n",
    "\n",
    "    actual_args : exp ',' actual_args\n",
    "                | exp\n",
    "\n",
    "    opt_exp : exp\n",
    "            | empty\n",
    "\n",
    "    opt_else : ELSE stmt\n",
    "             | empty\n",
    "\n",
    "    opt_semi : ';'\n",
    "             | empty\n",
    "\n",
    "    exp : exp PLUS exp\n",
    "        | exp MINUS exp\n",
    "        | exp TIMES exp\n",
    "        | exp DIVIDE exp\n",
    "        | exp EQ exp\n",
    "        | exp LE exp\n",
    "        | INTEGER\n",
    "        | ID\n",
    "        | ID '(' opt_actual_args ')'\n",
    "        | '(' exp ')'\n",
    "        | MINUS exp %prec UMINUS\n",
    "        | NOT exp\n",
    "\n",
    "```"
   ]
  },
  {
   "cell_type": "markdown",
   "metadata": {},
   "source": [
    "We can identify three statement level additions to the grammar that support functions,\n",
    "\n",
    "1. Function declarations: `DECLARE ID '(' opt_formal_args ')' stmt`\n",
    "1. Function calls in statements: `ID '(' opt_actual_args ')' opt_semi`\n",
    "1. Return statements: `RETURN opt_exp opt_semi`\n",
    "\n",
    "Notice that formal and actual arguments are defined as different syntactic classes (lines 20 and 26, respectively).  This is due to the fact that formal arguments can only be variables that according to our call by value convention will be initialized with the values of the actual arguments when the function is called.  The  shape of actual arguemnts on the other hand is not restricted.  For a function call we are free to write things like,\n",
    "```C\n",
    "inc(get_value()*2+1)\n",
    "```\n",
    "where the actual parameters can be arbitrary complex expressions including other function calls.\n",
    "\n",
    "At the expression level we find that we have one addition that shows the syntax for function calls within expressions,\n",
    "```Python\n",
    "ID '(' opt_actual_args ')'\n",
    "```\n",
    "The remainder of the grammar is virtually unchanged compared with the Cuppa2 grammar except for the fact that the above changes bring with them additional rules to deal with optional argument lists and optional return statement expressions.\n",
    "\n",
    "We extend the Cuppa2 lexer with the comma literal and the keyword `return` in order to obtain the Cuppa3 lexer. The comma literal is necessary for being able to write formal and actual argument lists.  We also added the predicate `is_ID` to the lexer.  This function will help us to detect which parsing rule was fired at the statement level in the Cuppa3 front end.\n",
    "\n",
    "The parser specification [(`cuppa3_gram.py`)](code/cuppa3_gram.py) and the lexer specification [(`cuppa3_lex.py`)](code/cuppa3_lex.py) for Cuppa3 are available in the [`code`](code) folder.  We can test our parser and lexer code to make sure it works as expected,"
   ]
  },
  {
   "cell_type": "code",
   "execution_count": 9,
   "metadata": {},
   "outputs": [],
   "source": [
    "from cuppa3_lex import lexer\n",
    "from cuppa3_gram import parser\n",
    "\n",
    "program =\\\n",
    "'''\n",
    "declare inc(x) return x+1;\n",
    "put inc(1);\n",
    "'''\n",
    "parser.parse(program, lexer=lexer)"
   ]
  },
  {
   "cell_type": "markdown",
   "metadata": {},
   "source": [
    "## Cuppa3 Programs"
   ]
  },
  {
   "cell_type": "markdown",
   "metadata": {},
   "source": [
    "We have seen a simple Cuppa3 program above where we declared the function `inc` and then called it in order to print out an incremented value.  Here are some slightly more complex programs.  The first one defines an `add` function which we then use to add two values together,\n",
    "```C\n",
    "declare add(a,b) \n",
    "{\n",
    "    return a+b;\n",
    "}\n",
    "\n",
    "declare x = add(3,2);\n",
    "put x;\n",
    "```\n",
    "The next program will sum all the integer values between 1 and `n` given an integer `n`.  What is noteworthy about this program is that Cuppa3 allows us to declare functions within functions,\n",
    "```C\n",
    "declare seqsum(n) \n",
    "{\n",
    "    \n",
    "    declare add(a,b) return a+b;\n",
    "    declare inc(x) return x+1;\n",
    "        \n",
    "    declare i = 1;\n",
    "    declare sum = 0;\n",
    "        \n",
    "    while (i <= n) \n",
    "    {\n",
    "        sum = add(sum,i);\n",
    "        i = inc(i);\n",
    "    }\n",
    "        \n",
    "    return sum;\n",
    "}\n",
    "\n",
    "put seqsum(10);\n",
    "```\n",
    "Here the functions `add` and `inc` are only available within the scope of function `seqsum`.\n",
    "Finally, the last program we look at is the recursive implementation of the factorial of an integer value `x`,\n",
    "```C\n",
    "// recursive implementation of factorial\n",
    "declare fact(x) \n",
    "{\n",
    "     if (x <= 1)\n",
    "        return 1;\n",
    "     else \n",
    "        return x * fact(x-1);\n",
    "}\n",
    "\n",
    "// ask the user for input\n",
    "declare v;\n",
    "get v;\n",
    "put fact(v);\n",
    "```\n",
    "The defining characteristic of this program of course that it is recursive, that is, a function that calls itself.  This program will be a great test case for our Cuppa3 language processors to come.\n",
    "\n",
    "Fun fact: if we replace the `add` function in the `seqsum` program with a function that implements multiplication, e.g.,\n",
    "```C\n",
    "declare mult(a,b) return a*b;\n",
    "```\n",
    "then the `seqsum` program can be seen as the iterative implementation of the factorial computation."
   ]
  },
  {
   "cell_type": "markdown",
   "metadata": {},
   "source": [
    "# Function Local Scope"
   ]
  },
  {
   "cell_type": "markdown",
   "metadata": {},
   "source": [
    "The body of a function executes in its own local scope referred to as the *function local scope*.  That means formal parameters and any other kind of declarations within the function body are local to the function and therefore only available within the scope of the function.  In terms of our symbol table implementation that means we need to push a scope object on the symbol table stack before we execute or compile a function.\n",
    "\n",
    "Consider the Cuppa3 program,\n",
    "```C\n",
    "declare add(a,b) return a+b;\n",
    "\n",
    "put add(3,2);\n",
    "```\n",
    "Figure 2 shows how the body of the function `add` is executed within its own local scope.  Notice that the formal parameters `a` and `b` are declared as local variables within that local scope and that they are initialized with the values of the actual parameters."
   ]
  },
  {
   "cell_type": "markdown",
   "metadata": {},
   "source": [
    "<p align=\"center\">\n",
    "  <img width=\"600\" height=\"450\" src=\"figures/chap08/2/figure.jpg\">\n",
    "</p>\n",
    "<p style=\"text-align: center;\">\n",
    "Fig. 2: Executing a function body within a function local scope. \n",
    "</p>"
   ]
  },
  {
   "cell_type": "markdown",
   "metadata": {},
   "source": [
    "---\n",
    "Watch an animation on function calls.\n",
    "\n",
    "<a href=\"http://www.youtube.com/watch?feature=player_embedded&v=SCeWFmezs8M\" target=\"_blank\">\n",
    "<img style='border:1px solid #000000' src=\"movie.jpg\" width=\"120\" height=\"90\" />\n",
    "</a>\n",
    "\n",
    "---"
   ]
  },
  {
   "cell_type": "markdown",
   "metadata": {},
   "source": [
    "# Static vs. Dynamic Scoping"
   ]
  },
  {
   "cell_type": "markdown",
   "metadata": {},
   "source": [
    "There is an interesting interaction between function scopes and variables that are non-local to a function. Here is a  Cuppa3 program where the function `inc` refers to the variable `step` which is a non-local variable,\n",
    "```C\n",
    "declare step = 10;\n",
    "\n",
    "declare inc(x) \n",
    "{\n",
    "     return x+step;\n",
    "}\n",
    "\n",
    "// start a local scope\n",
    "{\n",
    "     declare step = 2;\n",
    "     put inc(5);\n",
    "}\n",
    "```\n",
    "The question is: How do we assign a value to `step` within the function call of the `put` statement in the local scope? We have two choices in order to accomplish this:\n",
    "\n",
    "1. We can interpret the function body in the context of the current symbol table stack.  This would mean that the variable `step` in the function `inc` would be bound to the value 2.  Figure 3 illustrates the configuration of the symbol table stack for this interpretation.  Here the function scope object is just another scope object on the stack.  We refer to this as *dynamic scoping* because the interpretation of the non-local variable in the function depends on the current stack configuration which could be different for every function invocation.\n",
    "\n",
    "    <p align=\"center\">\n",
    "      <img width=\"600\" height=\"450\" src=\"figures/chap08/3/figure.jpg\">\n",
    "    </p>\n",
    "    <p style=\"text-align: center;\">\n",
    "    Fig. 3: Symbol table stack configuration for dynamic scoping of a function. \n",
    "    </p>\n",
    "    <br>\n",
    "\n",
    "1. We can interpret the function body in the context of the symbol table stack configuration when the function was declared.  In this case the function was declared as a global function and therefore when the function is called the function scope itself will refer back to the global scope in order to resolve non-local variable references.  Figure 4 illustrates this. Notice the red arrow indicating that the function scope uses the global scope in order to resolve the non-local variable references.  We call this *static scoping* since the scope object where the function was declared will never change.\n",
    "\n",
    "    <p align=\"center\">\n",
    "      <img width=\"600\" height=\"450\" src=\"figures/chap08/4/figure.jpg\">\n",
    "    </p>\n",
    "    <p style=\"text-align: center;\">\n",
    "    Fig. 4: Symbol table stack configuration for static scoping of a function. \n",
    "    </p>\n",
    "    \n",
    "The majority of our programming languages implement static scoping since function behavior is more predictable by just analyzing the source code.  However, there are language like [Logo](https://en.wikipedia.org/wiki/Logo_(programming_language)) and [Emacs Lisp](https://en.wikipedia.org/wiki/Emacs_Lisp) that do implement dynamic scoping. \n",
    "\n",
    "> In Cuppa3 we will implement static scoping."
   ]
  },
  {
   "cell_type": "markdown",
   "metadata": {},
   "source": [
    "# A Cuppa3 Interpreter"
   ]
  },
  {
   "cell_type": "markdown",
   "metadata": {},
   "source": [
    "Our Cuppa3 interpreter follows our language processor architure.  The Cuppa3 front end generates the AST and a tree walker then interprets this AST.\n",
    "Before we look at the interpreter design itself, the first crucial insight to implementing functions in our interpreter is that function names act just like variable names in that they are the keys into our symbol table as follows,\n",
    "\n",
    "* During function declaration we enter the function name into the symbol table.\n",
    "* During a function call we search for the function name in the symbol table.\n",
    "\n",
    "The second important insight is that the function body can be considered the value that we store with the function name in the symbol table.\n",
    "During a function call we lookup the function name in the symbol table and return the function body as the value for interpretation.  Figure 5 shows a program that declares a function and a couple of other global variables.  You can see that in all cases the name is used as the key into the symbol table.  The big difference is in the value that is associated with the names.  In the case of the variables `x` and `y` we see that scalar values are being stored and in the case of the function name `inc` we see that the function body is store in the symbol table as the associated value.\n",
    "In order to make this possible we will extend our symbol table to distinguish between scalar and function values."
   ]
  },
  {
   "cell_type": "markdown",
   "metadata": {},
   "source": [
    "<p align=\"center\">\n",
    "  <img width=\"600\" src=\"figures/chap08/5/figure.jpg\">\n",
    "</p>\n",
    "<p style=\"text-align: center;\">\n",
    "Fig. 5: Storing functions in the symbol table. \n",
    "</p>"
   ]
  },
  {
   "cell_type": "markdown",
   "metadata": {},
   "source": [
    "---\n",
    "Watch an animation of our symbol table in action during a function call.\n",
    "<p>\n",
    "\n",
    "<a href=\"http://www.youtube.com/watch?feature=player_embedded&v=oIbbpjohb5A\" target=\"_blank\">\n",
    "<img style='border:1px solid #000000' src=\"movie.jpg\" width=\"120\" height=\"90\" />\n",
    "</a>\n",
    "\n",
    "---"
   ]
  },
  {
   "cell_type": "markdown",
   "metadata": {},
   "source": [
    "## The Symbol Table"
   ]
  },
  {
   "cell_type": "markdown",
   "metadata": {},
   "source": [
    "As we mentioned above, the symbol table is extended to store two different kinds of objects:\n",
    "\n",
    "* Scalars \n",
    "* Functions\n",
    "\n",
    "We do this by adding type tags to the objects being stored as values in the symbol table.\n",
    "We also extended the symbol table so that we can manipulate scopes apropriately in order to implement *static scoping* according to our Cuppa3 design decisions. Here is the somewhat abbreviated source code for the Cuppa3 interpreter symbol table."
   ]
  },
  {
   "cell_type": "markdown",
   "metadata": {},
   "source": [
    "```Python\n",
    "class SymTab:\n",
    "\n",
    "    def __init__(self):\n",
    "        #...\n",
    "        \n",
    "    def get_config(self):\n",
    "        # we make a shallow copy of the symbol table\n",
    "        return list(self.scoped_symtab)\n",
    "\n",
    "    def set_config(self, c):\n",
    "        self.scoped_symtab = c\n",
    "\n",
    "    def push_scope(self):\n",
    "        #...\n",
    "        \n",
    "    def pop_scope(self):\n",
    "        #...\n",
    "        \n",
    "    def declare_scalar(self, sym, init):\n",
    "        # declare the scalar in the current scope: dict @ position 0\n",
    "\n",
    "        # first we need to check whether the symbol was already declared\n",
    "        # at this scope\n",
    "        if sym in self.scoped_symtab[CURR_SCOPE]:\n",
    "            raise ValueError(\"symbol {} already declared\".format(sym))\n",
    "\n",
    "        # enter the symbol in the current scope\n",
    "        self.scoped_symtab[CURR_SCOPE]\n",
    "            .update({sym:('scalar', init)})\n",
    "\n",
    "    def declare_fun(self, sym, init):\n",
    "        # declare a function in the current scope: dict @ position 0\n",
    "\n",
    "        # first we need to check whether the symbol was already declared\n",
    "        # at this scope\n",
    "        if sym in self.scoped_symtab[CURR_SCOPE]:\n",
    "            raise ValueError(\"symbol {} already declared\".format(sym))\n",
    "\n",
    "        # enter the function in the current scope\n",
    "        self.scoped_symtab[CURR_SCOPE]\n",
    "            .update({sym:('function', init)})\n",
    "\n",
    "    def lookup_sym(self, sym):\n",
    "        #...\n",
    "        \n",
    "    def update_sym(self, sym, val):\n",
    "        #...\n",
    "\n",
    "```"
   ]
  },
  {
   "cell_type": "markdown",
   "metadata": {},
   "source": [
    "## The Frontend"
   ]
  },
  {
   "cell_type": "markdown",
   "metadata": {},
   "source": [
    "As usual the front end specification consists of a [lexer](code/cuppa3_lex.py), a [parser](code/cuppa3_frontend.py), and a [state object](code/.  Let's take a look at the AST the front end generates for function related program snippets."
   ]
  },
  {
   "cell_type": "code",
   "execution_count": null,
   "metadata": {},
   "outputs": [],
   "source": [
    "from cuppa3_lex import lexer\n",
    "from cuppa3_frontend import parser\n",
    "\n",
    "program =\\\n",
    "'''\n",
    "declare inc(x) return x+1;\n",
    "put inc(1);\n",
    "'''\n",
    "parser.parse(program, lexer=lexer)"
   ]
  },
  {
   "cell_type": "markdown",
   "metadata": {},
   "source": [
    "## The Tree Walker"
   ]
  },
  {
   "cell_type": "markdown",
   "metadata": {},
   "source": [
    "# Compiling Cuppa3 Code"
   ]
  },
  {
   "cell_type": "markdown",
   "metadata": {},
   "source": [
    "Compiling Cuppa3 code, in particular functions, to Exp2bytecode."
   ]
  },
  {
   "cell_type": "code",
   "execution_count": null,
   "metadata": {},
   "outputs": [],
   "source": [
    "from cuppa3_lex import lexer\n",
    "from cuppa3_cc_frontend import parser\n",
    "from cuppa3_cc_tree_rewrite import walk as rewrite\n",
    "from cuppa3_cc_codegen import walk as codegen\n",
    "from cuppa3_cc_output import output\n",
    "from cuppa3_cc_state import state\n",
    "from grammar_stuff import dump_AST\n",
    "\n",
    "from cuppa3_cc import cc\n",
    "from exp2bytecode_interp import interp as run"
   ]
  },
  {
   "cell_type": "code",
   "execution_count": null,
   "metadata": {},
   "outputs": [],
   "source": [
    "program = \\\n",
    "'''\n",
    "declare x = (3 + 2) * 4\n",
    "put x\n",
    "'''"
   ]
  },
  {
   "cell_type": "code",
   "execution_count": null,
   "metadata": {},
   "outputs": [],
   "source": [
    "run(cc(program))"
   ]
  },
  {
   "cell_type": "markdown",
   "metadata": {},
   "source": [
    "Step-by-step"
   ]
  },
  {
   "cell_type": "code",
   "execution_count": null,
   "metadata": {},
   "outputs": [],
   "source": [
    "state.initialize()\n",
    "parser.parse(program,lexer=lexer)"
   ]
  },
  {
   "cell_type": "code",
   "execution_count": null,
   "metadata": {},
   "outputs": [],
   "source": [
    "dump_AST(state.AST)"
   ]
  },
  {
   "cell_type": "code",
   "execution_count": null,
   "metadata": {},
   "outputs": [],
   "source": [
    "state.AST = rewrite(state.AST)\n",
    "dump_AST(state.AST)"
   ]
  },
  {
   "cell_type": "code",
   "execution_count": null,
   "metadata": {},
   "outputs": [],
   "source": [
    "output_stream = output(codegen(state.AST))\n",
    "print(output_stream)"
   ]
  },
  {
   "cell_type": "code",
   "execution_count": null,
   "metadata": {},
   "outputs": [],
   "source": [
    "run(output_stream)"
   ]
  },
  {
   "cell_type": "code",
   "execution_count": null,
   "metadata": {},
   "outputs": [],
   "source": [
    "program = \\\n",
    "'''\n",
    "declare double_sum(a,b) \n",
    "{\n",
    "    return (a+b)*2;\n",
    "}\n",
    "'''\n"
   ]
  },
  {
   "cell_type": "markdown",
   "metadata": {},
   "source": [
    "Step-by-step"
   ]
  },
  {
   "cell_type": "code",
   "execution_count": null,
   "metadata": {},
   "outputs": [],
   "source": [
    "state.initialize()\n",
    "parser.parse(program,lexer=lexer)"
   ]
  },
  {
   "cell_type": "code",
   "execution_count": null,
   "metadata": {},
   "outputs": [],
   "source": [
    "dump_AST(state.AST)"
   ]
  },
  {
   "cell_type": "code",
   "execution_count": null,
   "metadata": {},
   "outputs": [],
   "source": [
    "state.AST = rewrite(state.AST)\n",
    "dump_AST(state.AST)"
   ]
  },
  {
   "cell_type": "code",
   "execution_count": null,
   "metadata": {},
   "outputs": [],
   "source": [
    "output_stream = output(codegen(state.AST))\n",
    "print(output_stream)"
   ]
  },
  {
   "cell_type": "code",
   "execution_count": null,
   "metadata": {},
   "outputs": [],
   "source": [
    "program = \\\n",
    "'''\n",
    "declare double_sum(a,b) \n",
    "{\n",
    "    return (a+b)*2;\n",
    "}\n",
    "\n",
    "declare x = double_sum(3,2);\n",
    "put x;\n",
    "'''\n"
   ]
  },
  {
   "cell_type": "code",
   "execution_count": null,
   "metadata": {},
   "outputs": [],
   "source": [
    "state.initialize()\n",
    "parser.parse(program,lexer=lexer)"
   ]
  },
  {
   "cell_type": "code",
   "execution_count": null,
   "metadata": {},
   "outputs": [],
   "source": [
    "dump_AST(state.AST)"
   ]
  },
  {
   "cell_type": "code",
   "execution_count": null,
   "metadata": {},
   "outputs": [],
   "source": [
    "state.AST = rewrite(state.AST)\n",
    "dump_AST(state.AST)"
   ]
  },
  {
   "cell_type": "code",
   "execution_count": null,
   "metadata": {},
   "outputs": [],
   "source": [
    "output_stream = output(codegen(state.AST))\n",
    "print(output_stream)"
   ]
  },
  {
   "cell_type": "code",
   "execution_count": null,
   "metadata": {},
   "outputs": [],
   "source": [
    "run(output_stream)"
   ]
  },
  {
   "cell_type": "markdown",
   "metadata": {},
   "source": [
    "# Notes"
   ]
  },
  {
   "cell_type": "markdown",
   "metadata": {},
   "source": [
    "Perhaps the earliest reference to the notion of a subroutine is by John Mauchly, the co-designer of the [ENIAC](https://en.wikipedia.org/wiki/ENIAC) computer, in his paper *Preparation of Problems for EDVAC-type Machines* which was presented at a symposium in 1947,\n",
    "\n",
    "Curtiss, J. (1947). [*A Symposium of Large Scale Digital Calculating Machinery*](https://www.jstor.org/stable/2002294?seq=1#page_scan_tab_contents). Mathematical Tables and Other Aids to Computation, 2(18), 229-238. doi:10.2307/2002294\n",
    "\n",
    "Our discussion of argument passing techniques was based on material from Adam Brook Webber's book,\n",
    "\n",
    "Webber, A. B. (2010). [*Modern programming languages: A practical introduction*](https://fbeedle.com/our-books/13-modern-programming-languages-a-practical-introduction-2nd-ed-9781590282502.html). Franklin, Beedle & Associates Inc..\n"
   ]
  },
  {
   "cell_type": "markdown",
   "metadata": {},
   "source": [
    "# Exercises"
   ]
  },
  {
   "cell_type": "markdown",
   "metadata": {},
   "source": [
    "1. The Cuppa3 interpreter implements static scoping.  Change the implementation so that it supports\n",
    "    dynamic scoping.  Show that your implementation works by demonstrating that the modified interpreter\n",
    "    interprets the following program according to the definition of dynamic scoping:\n",
    "    ```C\n",
    "    declare step = 10;\n",
    "    declare inc(x) {\n",
    "         return x+step;\n",
    "    }\n",
    "    // start a local scopeÉ\n",
    "    {\n",
    "         declare step = 2;\n",
    "         put inc(5);\n",
    "    }\n",
    "    ```"
   ]
  },
  {
   "cell_type": "code",
   "execution_count": null,
   "metadata": {},
   "outputs": [],
   "source": []
  }
 ],
 "metadata": {
  "kernelspec": {
   "display_name": "Python 3",
   "language": "python",
   "name": "python3"
  },
  "language_info": {
   "codemirror_mode": {
    "name": "ipython",
    "version": 3
   },
   "file_extension": ".py",
   "mimetype": "text/x-python",
   "name": "python",
   "nbconvert_exporter": "python",
   "pygments_lexer": "ipython3",
   "version": "3.7.3"
  }
 },
 "nbformat": 4,
 "nbformat_minor": 2
}
