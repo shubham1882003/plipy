{
 "cells": [
  {
   "cell_type": "code",
   "execution_count": 1,
   "metadata": {},
   "outputs": [],
   "source": [
    "from ubasic_lex import lexer\n",
    "from ubasic_gram import parser"
   ]
  },
  {
   "cell_type": "code",
   "execution_count": 2,
   "metadata": {
    "collapsed": true
   },
   "outputs": [],
   "source": [
    "p1 = \\\n",
    "'''\n",
    "input \"Enter a value for variable x: \", x\n",
    "print \"The value of variable x is \", x\n",
    "'''\n",
    "\n",
    "p2 = \\\n",
    "'''\n",
    "input \"enter a value: \", a\n",
    "if a==5 then\n",
    "   print \"a is equal to 5\"\n",
    "else\n",
    "   print \"a is not equal to 5\"\n",
    "endif\n",
    "'''\n",
    "\n",
    "p3 = \\\n",
    "'''\n",
    "a = 1\n",
    "while a <= 100\n",
    "   print a\n",
    "   a = a + 1\n",
    "endwhile\n",
    "'''\n",
    "\n",
    "p4 = \\\n",
    "'''\n",
    "' print the even numbers between 1 and 10\n",
    "for x = 2 to 10 step 2\n",
    "    print x\n",
    "next x\n",
    "'''\n",
    "\n",
    "p5 = \\\n",
    "'''\n",
    "' compute the factorial of a number\n",
    "input \"Enter a value: \", x\n",
    "if x <= 0 then\n",
    "   print \"illegal input value\"\n",
    "   end\n",
    "endif\n",
    "\n",
    "' input ok - continue computation\n",
    "y = 1\n",
    "for i = 1 to x\n",
    "   y = y * i\n",
    "next i\n",
    "print \"The factorial of \",x,\" is \",y\n",
    "'''"
   ]
  },
  {
   "cell_type": "code",
   "execution_count": 3,
   "metadata": {},
   "outputs": [],
   "source": [
    "parser.parse(p1,lexer=lexer)"
   ]
  },
  {
   "cell_type": "code",
   "execution_count": 4,
   "metadata": {
    "collapsed": true
   },
   "outputs": [],
   "source": [
    "parser.parse(p2,lexer=lexer)"
   ]
  },
  {
   "cell_type": "code",
   "execution_count": 5,
   "metadata": {
    "collapsed": true
   },
   "outputs": [],
   "source": [
    "parser.parse(p3,lexer=lexer)"
   ]
  },
  {
   "cell_type": "code",
   "execution_count": 6,
   "metadata": {
    "collapsed": true
   },
   "outputs": [],
   "source": [
    "parser.parse(p4,lexer=lexer)"
   ]
  },
  {
   "cell_type": "code",
   "execution_count": 7,
   "metadata": {
    "collapsed": true
   },
   "outputs": [],
   "source": [
    "parser.parse(p5,lexer=lexer)"
   ]
  },
  {
   "cell_type": "markdown",
   "metadata": {},
   "source": [
    "Parser works!"
   ]
  },
  {
   "cell_type": "code",
   "execution_count": null,
   "metadata": {
    "collapsed": true
   },
   "outputs": [],
   "source": []
  }
 ],
 "metadata": {
  "kernelspec": {
   "display_name": "Python 3",
   "language": "python",
   "name": "python3"
  },
  "language_info": {
   "codemirror_mode": {
    "name": "ipython",
    "version": 3
   },
   "file_extension": ".py",
   "mimetype": "text/x-python",
   "name": "python",
   "nbconvert_exporter": "python",
   "pygments_lexer": "ipython3",
   "version": "3.7.6"
  }
 },
 "nbformat": 4,
 "nbformat_minor": 2
}
