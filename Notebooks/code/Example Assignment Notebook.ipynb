{
 "cells": [
  {
   "cell_type": "markdown",
   "metadata": {},
   "source": [
    "## Assignment Exercise"
   ]
  },
  {
   "cell_type": "markdown",
   "metadata": {},
   "source": [
    "This notebook demonstrates how you can construct an appropriate notebook for assignment submissions.  Here we assume that the notebook is colocated with the actual code so we don't have to tell the Python kernel where to find the code."
   ]
  },
  {
   "cell_type": "markdown",
   "metadata": {},
   "source": [
    "We use our recursive descent parser for Exp0 as an example.  We want to demonstrate that the parser actually works. First we have to load the auxiliary functions that define the input stream."
   ]
  },
  {
   "cell_type": "code",
   "execution_count": 1,
   "metadata": {},
   "outputs": [],
   "source": [
    "from grammar_stuff import InputStream"
   ]
  },
  {
   "cell_type": "markdown",
   "metadata": {},
   "source": [
    "The module `grammar_stuff` is available in the `code` folder under the Plipy Notebooks. Next we have to import the function due to the starting symbol in our parser."
   ]
  },
  {
   "cell_type": "code",
   "execution_count": 2,
   "metadata": {},
   "outputs": [],
   "source": [
    "from exp0_recdesc import prog"
   ]
  },
  {
   "cell_type": "markdown",
   "metadata": {},
   "source": [
    "We also need to import the function that allows us to set an input stream in the parser."
   ]
  },
  {
   "cell_type": "code",
   "execution_count": 3,
   "metadata": {},
   "outputs": [],
   "source": [
    "from exp0_recdesc import set_stream"
   ]
  },
  {
   "cell_type": "markdown",
   "metadata": {},
   "source": [
    "Now, let's run some examples. First example is the program `s x 1; p x;`."
   ]
  },
  {
   "cell_type": "code",
   "execution_count": 4,
   "metadata": {},
   "outputs": [],
   "source": [
    "set_stream(InputStream(['s','x','1',';','p','x',';']))"
   ]
  },
  {
   "cell_type": "markdown",
   "metadata": {},
   "source": [
    "Now call the top level function to parse the input stream."
   ]
  },
  {
   "cell_type": "code",
   "execution_count": 5,
   "metadata": {},
   "outputs": [],
   "source": [
    "prog()"
   ]
  },
  {
   "cell_type": "markdown",
   "metadata": {},
   "source": [
    "The function returned without incident that means it was able to parse the input. As our second example we have a program that has a syntax error.  Instead of the `p` command we have a `q` command which of course does not exist in this language."
   ]
  },
  {
   "cell_type": "code",
   "execution_count": 6,
   "metadata": {},
   "outputs": [],
   "source": [
    "set_stream(InputStream(['s','x','1',';','q','x',';']))"
   ]
  },
  {
   "cell_type": "code",
   "execution_count": 7,
   "metadata": {
    "scrolled": true
   },
   "outputs": [
    {
     "ename": "SyntaxError",
     "evalue": "unexpected symbol q while parsing (<string>)",
     "output_type": "error",
     "traceback": [
      "Traceback \u001b[0;36m(most recent call last)\u001b[0m:\n",
      "  File \u001b[1;32m\"/Users/lutz/opt/anaconda3/lib/python3.7/site-packages/IPython/core/interactiveshell.py\"\u001b[0m, line \u001b[1;32m3331\u001b[0m, in \u001b[1;35mrun_code\u001b[0m\n    exec(code_obj, self.user_global_ns, self.user_ns)\n",
      "  File \u001b[1;32m\"<ipython-input-7-3cd8e1e06ac8>\"\u001b[0m, line \u001b[1;32m1\u001b[0m, in \u001b[1;35m<module>\u001b[0m\n    prog()\n",
      "  File \u001b[1;32m\"/Users/lutz/Dropbox/URI/Books/Lang Implement Book/git/plipy/Notebooks/code/exp0_recdesc.py\"\u001b[0m, line \u001b[1;32m44\u001b[0m, in \u001b[1;35mprog\u001b[0m\n    prog()\n",
      "\u001b[0;36m  File \u001b[0;32m\"/Users/lutz/Dropbox/URI/Books/Lang Implement Book/git/plipy/Notebooks/code/exp0_recdesc.py\"\u001b[0;36m, line \u001b[0;32m48\u001b[0;36m, in \u001b[0;35mprog\u001b[0;36m\u001b[0m\n\u001b[0;31m    raise SyntaxError('unexpected symbol {} while parsing'.format(sym))\u001b[0m\n",
      "\u001b[0;36m  File \u001b[0;32m\"<string>\"\u001b[0;36m, line \u001b[0;32munknown\u001b[0m\n\u001b[0;31mSyntaxError\u001b[0m\u001b[0;31m:\u001b[0m unexpected symbol q while parsing\n"
     ]
    }
   ],
   "source": [
    "prog()"
   ]
  },
  {
   "cell_type": "markdown",
   "metadata": {},
   "source": [
    "The last line of the error message tells us that our program has a syntax error.  As expected the parser found the symbol `q` to be the source of the error."
   ]
  },
  {
   "cell_type": "markdown",
   "metadata": {},
   "source": [
    "We can clean this up a bit and wrap the parser in a top-level function that catches exceptions and then aborts cleanly in the case of a syntax error."
   ]
  },
  {
   "cell_type": "code",
   "execution_count": 8,
   "metadata": {},
   "outputs": [],
   "source": [
    "def parse(input):\n",
    "    try:\n",
    "        set_stream(InputStream(input))\n",
    "        prog()\n",
    "    except SyntaxError as err:\n",
    "        print(\"syntax error: {0}\".format(err))\n",
    "    else:\n",
    "        print(\"parse successful!\")\n",
    "        "
   ]
  },
  {
   "cell_type": "code",
   "execution_count": 9,
   "metadata": {},
   "outputs": [
    {
     "name": "stdout",
     "output_type": "stream",
     "text": [
      "parse successful!\n"
     ]
    }
   ],
   "source": [
    "parse(['s','x','1',';','p','x',';'])"
   ]
  },
  {
   "cell_type": "code",
   "execution_count": 10,
   "metadata": {},
   "outputs": [
    {
     "name": "stdout",
     "output_type": "stream",
     "text": [
      "syntax error: unexpected symbol q while parsing\n"
     ]
    }
   ],
   "source": [
    "parse(['s','x','1',';','q','x',';'])"
   ]
  },
  {
   "cell_type": "code",
   "execution_count": null,
   "metadata": {},
   "outputs": [],
   "source": []
  }
 ],
 "metadata": {
  "kernelspec": {
   "display_name": "Python 3",
   "language": "python",
   "name": "python3"
  },
  "language_info": {
   "codemirror_mode": {
    "name": "ipython",
    "version": 3
   },
   "file_extension": ".py",
   "mimetype": "text/x-python",
   "name": "python",
   "nbconvert_exporter": "python",
   "pygments_lexer": "ipython3",
   "version": "3.7.6"
  }
 },
 "nbformat": 4,
 "nbformat_minor": 2
}
